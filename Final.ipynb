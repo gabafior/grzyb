{
 "cells": [
  {
   "cell_type": "markdown",
   "metadata": {},
   "source": [
    "### Importing necessary libraries"
   ]
  },
  {
   "cell_type": "code",
   "execution_count": 1,
   "metadata": {},
   "outputs": [],
   "source": [
    "import pandas as pd\n",
    "import seaborn as sns\n",
    "import matplotlib.pyplot as plt\n",
    "pd.set_option('display.max_columns',100)\n",
    "import numpy as np\n",
    "from sklearn.linear_model import LogisticRegression\n",
    "from sklearn.tree import DecisionTreeClassifier\n",
    "from sklearn.preprocessing import StandardScaler\n",
    "from sklearn.model_selection import GridSearchCV\n",
    "from sklearn.model_selection import train_test_split\n",
    "from sklearn import metrics\n",
    "from sklearn.neighbors import KNeighborsClassifier\n",
    "from sklearn.dummy import DummyClassifier\n",
    "from sklearn.ensemble import RandomForestClassifier\n",
    "from sklearn.ensemble import VotingClassifier\n",
    "from sklearn.ensemble import BaggingClassifier, RandomForestRegressor, ExtraTreesRegressor\n",
    "from sklearn.metrics import plot_confusion_matrix\n",
    "import pickle"
   ]
  },
  {
   "cell_type": "code",
   "execution_count": 2,
   "metadata": {},
   "outputs": [],
   "source": [
    "#reading in cleaned, complete dataset before one-hot encoding for visualizing\n",
    "data=pd.read_pickle('shroomies_data.pkl')"
   ]
  },
  {
   "cell_type": "code",
   "execution_count": 3,
   "metadata": {},
   "outputs": [],
   "source": [
    "#reading in final csv after one-hot encoding applied, original columns dropped\n",
    "#all values in dataset are now 0 and 1\n",
    "df=pd.read_csv('final_mushroom_data.csv',index_col=0)"
   ]
  },
  {
   "cell_type": "code",
   "execution_count": 4,
   "metadata": {},
   "outputs": [],
   "source": [
    "#correlation matrix\n",
    "corr=df.corr()\n",
    "\n",
    "#plotting correlation matrix\n",
    "#sns.set(style=\"white\")\n",
    "\n",
    "#mask = np.zeros_like(corr, dtype=np.bool)\n",
    "#mask[np.triu_indices_from(mask)] = True\n",
    "\n",
    "#f, ax = plt.subplots(figsize=(11, 9))\n",
    "\n",
    "#cmap = sns.diverging_palette(220, 10, as_cmap=True)\n",
    "\n",
    "#sns.heatmap(corr, mask=mask, cmap=cmap, vmax=1, center=0, square=True, linewidths=.5, cbar_kws={\"shrink\": .5})\n",
    "#plt.show()"
   ]
  },
  {
   "cell_type": "code",
   "execution_count": 5,
   "metadata": {},
   "outputs": [],
   "source": [
    "#corr[abs(corr>.70)]\n",
    "#gill size, stalk surface above ring_k and odor_f all appear to be the highest correlated with class"
   ]
  },
  {
   "cell_type": "code",
   "execution_count": 6,
   "metadata": {},
   "outputs": [
    {
     "data": {
      "text/plain": [
       "class                         1.000000\n",
       "odor_f                        0.623842\n",
       "stalk-surface-above-ring_k    0.587658\n",
       "stalk-surface-below-ring_k    0.573524\n",
       "gill-size                     0.540024\n",
       "spore-print-color_h           0.490229\n",
       "ring-type_l                   0.451619\n",
       "population_v                  0.443722\n",
       "spore-print-color_w           0.357384\n",
       "habitat_p                     0.323346\n",
       "Name: class, dtype: float64"
      ]
     },
     "execution_count": 6,
     "metadata": {},
     "output_type": "execute_result"
    }
   ],
   "source": [
    "corr['class'].sort_values(ascending=False).head(10)"
   ]
  },
  {
   "cell_type": "code",
   "execution_count": 7,
   "metadata": {},
   "outputs": [],
   "source": [
    "#defining target and features for models\n",
    "\n",
    "y=df['class']\n",
    "X=df.drop(['class'],axis=1)\n"
   ]
  },
  {
   "cell_type": "code",
   "execution_count": 8,
   "metadata": {},
   "outputs": [],
   "source": [
    "#creating test/train split\n",
    "#scaling not necessary\n",
    "X_train, X_test, y_train, y_test = train_test_split(X, y, test_size=0.10, random_state=5)\n"
   ]
  },
  {
   "cell_type": "code",
   "execution_count": 9,
   "metadata": {},
   "outputs": [],
   "source": [
    "#setting up results dictionary to save different model results here\n",
    "results_dict={}"
   ]
  },
  {
   "cell_type": "code",
   "execution_count": 10,
   "metadata": {},
   "outputs": [],
   "source": [
    "#function to get best model stats after running gridsearch\n",
    "def examinebestmodel(model_name):\n",
    "    print(model_name.best_score_)\n",
    "    print(model_name.best_params_)\n",
    "    print(model_name.best_estimator_)\n"
   ]
  },
  {
   "cell_type": "code",
   "execution_count": 11,
   "metadata": {},
   "outputs": [],
   "source": [
    "#function to print results with test set and prediction variable\n",
    "def getresults(test,pred_variable):\n",
    "    return \"F1:\", metrics.f1_score(test,pred_variable),'Accuracy:', metrics.accuracy_score(y_test,pred_variable)"
   ]
  },
  {
   "cell_type": "markdown",
   "metadata": {},
   "source": [
    "#### Dummy Classifier\n"
   ]
  },
  {
   "cell_type": "code",
   "execution_count": 12,
   "metadata": {},
   "outputs": [
    {
     "data": {
      "text/plain": [
       "('F1:', 0.5043263288009889, 'Accuracy:', 0.5067650676506765)"
      ]
     },
     "execution_count": 12,
     "metadata": {},
     "output_type": "execute_result"
    }
   ],
   "source": [
    "#dummyclassifier\n",
    "\n",
    "from sklearn.dummy import DummyClassifier\n",
    "\n",
    "dummy_clf=DummyClassifier(strategy='uniform')\n",
    "dummy_clf.fit(X_train,y_train)\n",
    "dummy_pred=dummy_clf.predict(X_test)\n",
    "\n",
    "results_dict['Dummy Classifier']=getresults(y_test,dummy_pred)\n",
    "getresults(y_test,dummy_pred)"
   ]
  },
  {
   "cell_type": "code",
   "execution_count": 13,
   "metadata": {},
   "outputs": [
    {
     "data": {
      "image/png": "[encoded data removed]",
      "text/plain": [
       "<Figure size 432x288 with 2 Axes>"
      ]
     },
     "metadata": {
      "needs_background": "light"
     },
     "output_type": "display_data"
    }
   ],
   "source": [
    "#plot confusion matrix for dummy classifier\n",
    "plot_confusion_matrix(dummy_clf,X_test,y_test,cmap='cool',values_format='g')\n",
    "plt.show()"
   ]
  },
  {
   "cell_type": "markdown",
   "metadata": {},
   "source": [
    "#### Logistic Regression with GridCV\n"
   ]
  },
  {
   "cell_type": "code",
   "execution_count": 14,
   "metadata": {},
   "outputs": [],
   "source": [
    "#logreg model\n",
    "logreg=LogisticRegression()\n",
    "penalty = ['l2']\n",
    "c_range = [0.001, 0.01, 0.1, 1]\n",
    "solver=['lbfgs']\n",
    "parameters_lr = dict(C=c_range, penalty=penalty,solver=solver)\n",
    "lr_1=GridSearchCV(logreg,parameters_lr,scoring='accuracy',cv=5,verbose=1)\n",
    "\n"
   ]
  },
  {
   "cell_type": "code",
   "execution_count": 15,
   "metadata": {},
   "outputs": [
    {
     "name": "stdout",
     "output_type": "stream",
     "text": [
      "Fitting 5 folds for each of 4 candidates, totalling 20 fits\n"
     ]
    },
    {
     "data": {
      "text/plain": [
       "GridSearchCV(cv=5, estimator=LogisticRegression(),\n",
       "             param_grid={'C': [0.001, 0.01, 0.1, 1], 'penalty': ['l2'],\n",
       "                         'solver': ['lbfgs']},\n",
       "             scoring='accuracy', verbose=1)"
      ]
     },
     "execution_count": 15,
     "metadata": {},
     "output_type": "execute_result"
    }
   ],
   "source": [
    "#training model and predicting on test set\n",
    "lr_1.fit(X_train,y_train)"
   ]
  },
  {
   "cell_type": "code",
   "execution_count": 16,
   "metadata": {},
   "outputs": [
    {
     "name": "stdout",
     "output_type": "stream",
     "text": [
      "0.9993160989777017\n",
      "{'C': 1, 'penalty': 'l2', 'solver': 'lbfgs'}\n",
      "LogisticRegression(C=1)\n"
     ]
    }
   ],
   "source": [
    "examinebestmodel(lr_1)"
   ]
  },
  {
   "cell_type": "code",
   "execution_count": 17,
   "metadata": {},
   "outputs": [
    {
     "data": {
      "text/plain": [
       "('F1:', 0.9987515605493134, 'Accuracy:', 0.998769987699877)"
      ]
     },
     "execution_count": 17,
     "metadata": {},
     "output_type": "execute_result"
    }
   ],
   "source": [
    "#predict on test set - logreg\n",
    "y_pred_lr_1=lr_1.best_estimator_.predict(X_test)\n",
    "results_dict['Log_Reg']=getresults(y_test,y_pred_lr_1)\n",
    "getresults(y_test,y_pred_lr_1)"
   ]
  },
  {
   "cell_type": "code",
   "execution_count": 18,
   "metadata": {},
   "outputs": [
    {
     "data": {
      "image/png": "[encoded data removed]",
      "text/plain": [
       "<Figure size 432x288 with 2 Axes>"
      ]
     },
     "metadata": {
      "needs_background": "light"
     },
     "output_type": "display_data"
    }
   ],
   "source": [
    "#plotting confusion matrix for LR model\n",
    "plot_confusion_matrix(lr_1.best_estimator_,X_test,y_test,cmap='cool',values_format='g')\n",
    "plt.show()"
   ]
  },
  {
   "attachments": {
    "image.png": {
     "image/png": "[encoded data removed]"
    }
   },
   "cell_type": "markdown",
   "metadata": {},
   "source": [
    "#### Decision Tree with GridCV"
   ]
  },
  {
   "cell_type": "code",
   "execution_count": 19,
   "metadata": {},
   "outputs": [],
   "source": [
    "dtc= DecisionTreeClassifier(random_state=1)\n",
    "param_grid={'max_depth': [1,11,15],\n",
    "            'min_samples_leaf': [2,10,30],\n",
    "            'splitter': ['best','random'],\n",
    "            'criterion':['gini','entropy']}\n",
    "dtc_grid=GridSearchCV(dtc, param_grid, cv=3,verbose=1)       "
   ]
  },
  {
   "cell_type": "code",
   "execution_count": 20,
   "metadata": {},
   "outputs": [
    {
     "name": "stdout",
     "output_type": "stream",
     "text": [
      "Fitting 3 folds for each of 36 candidates, totalling 108 fits\n"
     ]
    },
    {
     "data": {
      "text/plain": [
       "GridSearchCV(cv=3, estimator=DecisionTreeClassifier(random_state=1),\n",
       "             param_grid={'criterion': ['gini', 'entropy'],\n",
       "                         'max_depth': [1, 11, 15],\n",
       "                         'min_samples_leaf': [2, 10, 30],\n",
       "                         'splitter': ['best', 'random']},\n",
       "             verbose=1)"
      ]
     },
     "execution_count": 20,
     "metadata": {},
     "output_type": "execute_result"
    }
   ],
   "source": [
    "dtc_grid.fit(X_train,y_train)"
   ]
  },
  {
   "cell_type": "code",
   "execution_count": 21,
   "metadata": {},
   "outputs": [
    {
     "name": "stdout",
     "output_type": "stream",
     "text": [
      "0.9997264396115443\n",
      "{'criterion': 'gini', 'max_depth': 11, 'min_samples_leaf': 2, 'splitter': 'best'}\n",
      "DecisionTreeClassifier(max_depth=11, min_samples_leaf=2, random_state=1)\n"
     ]
    }
   ],
   "source": [
    "examinebestmodel(dtc_grid)"
   ]
  },
  {
   "cell_type": "code",
   "execution_count": 22,
   "metadata": {},
   "outputs": [
    {
     "data": {
      "text/plain": [
       "('F1:', 1.0, 'Accuracy:', 1.0)"
      ]
     },
     "execution_count": 22,
     "metadata": {},
     "output_type": "execute_result"
    }
   ],
   "source": [
    "y_pred_gridtree=dtc_grid.best_estimator_.predict(X_test)\n",
    "getresults(y_test,y_pred_gridtree)"
   ]
  },
  {
   "cell_type": "code",
   "execution_count": 23,
   "metadata": {},
   "outputs": [],
   "source": [
    "results_dict['DTC_Grid']=getresults(y_test,y_pred_gridtree)"
   ]
  },
  {
   "cell_type": "code",
   "execution_count": 24,
   "metadata": {},
   "outputs": [
    {
     "data": {
      "image/png": "[encoded data removed]",
      "text/plain": [
       "<Figure size 432x288 with 2 Axes>"
      ]
     },
     "metadata": {
      "needs_background": "light"
     },
     "output_type": "display_data"
    }
   ],
   "source": [
    "#confusion matrix for DTC \n",
    "plot_confusion_matrix(dtc_grid.best_estimator_,X_test,y_test,cmap='cool',values_format='g')\n",
    "plt.show()"
   ]
  },
  {
   "cell_type": "code",
   "execution_count": 25,
   "metadata": {
    "scrolled": true
   },
   "outputs": [
    {
     "data": {
      "image/svg+xml": "<?xml version=\"1.0\" encoding=\"UTF-8\" standalone=\"no\"?>\n<!DOCTYPE svg PUBLIC \"-//W3C//DTD SVG 1.1//EN\"\n \"http://www.w3.org/Graphics/SVG/1.1/DTD/svg11.dtd\">\n<!-- Generated by graphviz version 2.50.0 (20211204.2007)\n -->\n<!-- Title: Tree Pages: 1 -->\n<svg width=\"1080pt\" height=\"756pt\"\n viewBox=\"0.00 0.00 1079.50 756.00\" xmlns=\"http://www.w3.org/2000/svg\" xmlns:xlink=\"http://www.w3.org/1999/xlink\">\n<g id=\"graph0\" class=\"graph\" transform=\"scale(1 1) rotate(0) translate(4 752)\">\n<title>Tree</title>\n<polygon fill=\"white\" stroke=\"transparent\" points=\"-4,4 -4,-752 1075.5,-752 1075.5,4 -4,4\"/>\n<!-- 0 -->\n<g id=\"node1\" class=\"node\">\n<title>0</title>\n<path fill=\"#fdf6f0\" stroke=\"black\" d=\"M675,-748C675,-748 553,-748 553,-748 547,-748 541,-742 541,-736 541,-736 541,-682 541,-682 541,-676 547,-670 553,-670 553,-670 675,-670 675,-670 681,-670 687,-676 687,-682 687,-682 687,-736 687,-736 687,-742 681,-748 675,-748\"/>\n<text text-anchor=\"start\" x=\"573.5\" y=\"-733.8\" font-family=\"Helvetica,sans-Serif\" font-size=\"14.00\">odor_n ≤ 0.5</text>\n<text text-anchor=\"start\" x=\"576.5\" y=\"-719.8\" font-family=\"Helvetica,sans-Serif\" font-size=\"14.00\">gini = 0.499</text>\n<text text-anchor=\"start\" x=\"562.5\" y=\"-705.8\" font-family=\"Helvetica,sans-Serif\" font-size=\"14.00\">samples = 7311</text>\n<text text-anchor=\"start\" x=\"549\" y=\"-691.8\" font-family=\"Helvetica,sans-Serif\" font-size=\"14.00\">value = [3796, 3515]</text>\n<text text-anchor=\"start\" x=\"582.5\" y=\"-677.8\" font-family=\"Helvetica,sans-Serif\" font-size=\"14.00\">class = y</text>\n<text text-anchor=\"start\" x=\"638.5\" y=\"-677.8\" font-family=\"Helvetica,sans-Serif\" baseline-shift=\"sub\" font-size=\"14.00\">0</text>\n</g>\n<!-- 1 -->\n<g id=\"node2\" class=\"node\">\n<title>1</title>\n<path fill=\"#63b2ea\" stroke=\"black\" d=\"M553,-634C553,-634 439,-634 439,-634 433,-634 427,-628 427,-622 427,-622 427,-568 427,-568 427,-562 433,-556 439,-556 439,-556 553,-556 553,-556 559,-556 565,-562 565,-568 565,-568 565,-622 565,-622 565,-628 559,-634 553,-634\"/>\n<text text-anchor=\"start\" x=\"441.5\" y=\"-619.8\" font-family=\"Helvetica,sans-Serif\" font-size=\"14.00\">stalk&#45;root_c ≤ 0.5</text>\n<text text-anchor=\"start\" x=\"458.5\" y=\"-605.8\" font-family=\"Helvetica,sans-Serif\" font-size=\"14.00\">gini = 0.288</text>\n<text text-anchor=\"start\" x=\"444.5\" y=\"-591.8\" font-family=\"Helvetica,sans-Serif\" font-size=\"14.00\">samples = 4130</text>\n<text text-anchor=\"start\" x=\"435\" y=\"-577.8\" font-family=\"Helvetica,sans-Serif\" font-size=\"14.00\">value = [720, 3410]</text>\n<text text-anchor=\"start\" x=\"464.5\" y=\"-563.8\" font-family=\"Helvetica,sans-Serif\" font-size=\"14.00\">class = y</text>\n<text text-anchor=\"start\" x=\"520.5\" y=\"-563.8\" font-family=\"Helvetica,sans-Serif\" baseline-shift=\"sub\" font-size=\"14.00\">1</text>\n</g>\n<!-- 0&#45;&gt;1 -->\n<g id=\"edge1\" class=\"edge\">\n<title>0&#45;&gt;1</title>\n<path fill=\"none\" stroke=\"black\" d=\"M573.72,-669.77C564.04,-660.58 553.6,-650.68 543.62,-641.2\"/>\n<polygon fill=\"black\" stroke=\"black\" points=\"545.76,-638.4 536.1,-634.06 540.94,-643.48 545.76,-638.4\"/>\n<text text-anchor=\"middle\" x=\"536.75\" y=\"-655.35\" font-family=\"Helvetica,sans-Serif\" font-size=\"14.00\">True</text>\n</g>\n<!-- 12 -->\n<g id=\"node13\" class=\"node\">\n<title>12</title>\n<path fill=\"#e68540\" stroke=\"black\" d=\"M804.5,-634C804.5,-634 659.5,-634 659.5,-634 653.5,-634 647.5,-628 647.5,-622 647.5,-622 647.5,-568 647.5,-568 647.5,-562 653.5,-556 659.5,-556 659.5,-556 804.5,-556 804.5,-556 810.5,-556 816.5,-562 816.5,-568 816.5,-568 816.5,-622 816.5,-622 816.5,-628 810.5,-634 804.5,-634\"/>\n<text text-anchor=\"start\" x=\"655.5\" y=\"-619.8\" font-family=\"Helvetica,sans-Serif\" font-size=\"14.00\">spore&#45;print&#45;color_r ≤ 0.5</text>\n<text text-anchor=\"start\" x=\"694.5\" y=\"-605.8\" font-family=\"Helvetica,sans-Serif\" font-size=\"14.00\">gini = 0.064</text>\n<text text-anchor=\"start\" x=\"680.5\" y=\"-591.8\" font-family=\"Helvetica,sans-Serif\" font-size=\"14.00\">samples = 3181</text>\n<text text-anchor=\"start\" x=\"671\" y=\"-577.8\" font-family=\"Helvetica,sans-Serif\" font-size=\"14.00\">value = [3076, 105]</text>\n<text text-anchor=\"start\" x=\"700.5\" y=\"-563.8\" font-family=\"Helvetica,sans-Serif\" font-size=\"14.00\">class = y</text>\n<text text-anchor=\"start\" x=\"756.5\" y=\"-563.8\" font-family=\"Helvetica,sans-Serif\" baseline-shift=\"sub\" font-size=\"14.00\">0</text>\n</g>\n<!-- 0&#45;&gt;12 -->\n<g id=\"edge12\" class=\"edge\">\n<title>0&#45;&gt;12</title>\n<path fill=\"none\" stroke=\"black\" d=\"M654.28,-669.77C663.96,-660.58 674.4,-650.68 684.38,-641.2\"/>\n<polygon fill=\"black\" stroke=\"black\" points=\"687.06,-643.48 691.9,-634.06 682.24,-638.4 687.06,-643.48\"/>\n<text text-anchor=\"middle\" x=\"691.25\" y=\"-655.35\" font-family=\"Helvetica,sans-Serif\" font-size=\"14.00\">False</text>\n</g>\n<!-- 2 -->\n<g id=\"node3\" class=\"node\">\n<title>2</title>\n<path fill=\"#48a5e7\" stroke=\"black\" d=\"M356.5,-520C356.5,-520 163.5,-520 163.5,-520 157.5,-520 151.5,-514 151.5,-508 151.5,-508 151.5,-454 151.5,-454 151.5,-448 157.5,-442 163.5,-442 163.5,-442 356.5,-442 356.5,-442 362.5,-442 368.5,-448 368.5,-454 368.5,-454 368.5,-508 368.5,-508 368.5,-514 362.5,-520 356.5,-520\"/>\n<text text-anchor=\"start\" x=\"159.5\" y=\"-505.8\" font-family=\"Helvetica,sans-Serif\" font-size=\"14.00\">stalk&#45;surface&#45;below&#45;ring_y ≤ 0.5</text>\n<text text-anchor=\"start\" x=\"222.5\" y=\"-491.8\" font-family=\"Helvetica,sans-Serif\" font-size=\"14.00\">gini = 0.133</text>\n<text text-anchor=\"start\" x=\"208.5\" y=\"-477.8\" font-family=\"Helvetica,sans-Serif\" font-size=\"14.00\">samples = 3639</text>\n<text text-anchor=\"start\" x=\"199\" y=\"-463.8\" font-family=\"Helvetica,sans-Serif\" font-size=\"14.00\">value = [261, 3378]</text>\n<text text-anchor=\"start\" x=\"228.5\" y=\"-449.8\" font-family=\"Helvetica,sans-Serif\" font-size=\"14.00\">class = y</text>\n<text text-anchor=\"start\" x=\"284.5\" y=\"-449.8\" font-family=\"Helvetica,sans-Serif\" baseline-shift=\"sub\" font-size=\"14.00\">1</text>\n</g>\n<!-- 1&#45;&gt;2 -->\n<g id=\"edge2\" class=\"edge\">\n<title>1&#45;&gt;2</title>\n<path fill=\"none\" stroke=\"black\" d=\"M426.79,-561.15C402.68,-549.71 375.28,-536.71 349.75,-524.59\"/>\n<polygon fill=\"black\" stroke=\"black\" points=\"350.97,-521.3 340.44,-520.17 347.97,-527.62 350.97,-521.3\"/>\n</g>\n<!-- 9 -->\n<g id=\"node10\" class=\"node\">\n<title>9</title>\n<path fill=\"#e78a47\" stroke=\"black\" d=\"M593,-520C593,-520 399,-520 399,-520 393,-520 387,-514 387,-508 387,-508 387,-454 387,-454 387,-448 393,-442 399,-442 399,-442 593,-442 593,-442 599,-442 605,-448 605,-454 605,-454 605,-508 605,-508 605,-514 599,-520 593,-520\"/>\n<text text-anchor=\"start\" x=\"395\" y=\"-505.8\" font-family=\"Helvetica,sans-Serif\" font-size=\"14.00\">stalk&#45;surface&#45;below&#45;ring_s ≤ 0.5</text>\n<text text-anchor=\"start\" x=\"458.5\" y=\"-491.8\" font-family=\"Helvetica,sans-Serif\" font-size=\"14.00\">gini = 0.122</text>\n<text text-anchor=\"start\" x=\"448.5\" y=\"-477.8\" font-family=\"Helvetica,sans-Serif\" font-size=\"14.00\">samples = 491</text>\n<text text-anchor=\"start\" x=\"443\" y=\"-463.8\" font-family=\"Helvetica,sans-Serif\" font-size=\"14.00\">value = [459, 32]</text>\n<text text-anchor=\"start\" x=\"464.5\" y=\"-449.8\" font-family=\"Helvetica,sans-Serif\" font-size=\"14.00\">class = y</text>\n<text text-anchor=\"start\" x=\"520.5\" y=\"-449.8\" font-family=\"Helvetica,sans-Serif\" baseline-shift=\"sub\" font-size=\"14.00\">0</text>\n</g>\n<!-- 1&#45;&gt;9 -->\n<g id=\"edge9\" class=\"edge\">\n<title>1&#45;&gt;9</title>\n<path fill=\"none\" stroke=\"black\" d=\"M496,-555.77C496,-547.57 496,-538.8 496,-530.28\"/>\n<polygon fill=\"black\" stroke=\"black\" points=\"499.5,-530.06 496,-520.06 492.5,-530.06 499.5,-530.06\"/>\n</g>\n<!-- 3 -->\n<g id=\"node4\" class=\"node\">\n<title>3</title>\n<path fill=\"#3ea0e6\" stroke=\"black\" d=\"M182,-406C182,-406 76,-406 76,-406 70,-406 64,-400 64,-394 64,-394 64,-340 64,-340 64,-334 70,-328 76,-328 76,-328 182,-328 182,-328 188,-328 194,-334 194,-340 194,-340 194,-394 194,-394 194,-400 188,-406 182,-406\"/>\n<text text-anchor=\"start\" x=\"75.5\" y=\"-391.8\" font-family=\"Helvetica,sans-Serif\" font-size=\"14.00\">gill&#45;spacing ≤ 0.5</text>\n<text text-anchor=\"start\" x=\"91.5\" y=\"-377.8\" font-family=\"Helvetica,sans-Serif\" font-size=\"14.00\">gini = 0.051</text>\n<text text-anchor=\"start\" x=\"77.5\" y=\"-363.8\" font-family=\"Helvetica,sans-Serif\" font-size=\"14.00\">samples = 3468</text>\n<text text-anchor=\"start\" x=\"72\" y=\"-349.8\" font-family=\"Helvetica,sans-Serif\" font-size=\"14.00\">value = [90, 3378]</text>\n<text text-anchor=\"start\" x=\"97.5\" y=\"-335.8\" font-family=\"Helvetica,sans-Serif\" font-size=\"14.00\">class = y</text>\n<text text-anchor=\"start\" x=\"153.5\" y=\"-335.8\" font-family=\"Helvetica,sans-Serif\" baseline-shift=\"sub\" font-size=\"14.00\">1</text>\n</g>\n<!-- 2&#45;&gt;3 -->\n<g id=\"edge3\" class=\"edge\">\n<title>2&#45;&gt;3</title>\n<path fill=\"none\" stroke=\"black\" d=\"M215.28,-441.77C204.32,-432.4 192.5,-422.29 181.22,-412.64\"/>\n<polygon fill=\"black\" stroke=\"black\" points=\"183.39,-409.9 173.51,-406.06 178.84,-415.22 183.39,-409.9\"/>\n</g>\n<!-- 8 -->\n<g id=\"node9\" class=\"node\">\n<title>8</title>\n<path fill=\"#e58139\" stroke=\"black\" d=\"M313.5,-399C313.5,-399 224.5,-399 224.5,-399 218.5,-399 212.5,-393 212.5,-387 212.5,-387 212.5,-347 212.5,-347 212.5,-341 218.5,-335 224.5,-335 224.5,-335 313.5,-335 313.5,-335 319.5,-335 325.5,-341 325.5,-347 325.5,-347 325.5,-387 325.5,-387 325.5,-393 319.5,-399 313.5,-399\"/>\n<text text-anchor=\"start\" x=\"240\" y=\"-384.8\" font-family=\"Helvetica,sans-Serif\" font-size=\"14.00\">gini = 0.0</text>\n<text text-anchor=\"start\" x=\"221.5\" y=\"-370.8\" font-family=\"Helvetica,sans-Serif\" font-size=\"14.00\">samples = 171</text>\n<text text-anchor=\"start\" x=\"220.5\" y=\"-356.8\" font-family=\"Helvetica,sans-Serif\" font-size=\"14.00\">value = [171, 0]</text>\n<text text-anchor=\"start\" x=\"237.5\" y=\"-342.8\" font-family=\"Helvetica,sans-Serif\" font-size=\"14.00\">class = y</text>\n<text text-anchor=\"start\" x=\"293.5\" y=\"-342.8\" font-family=\"Helvetica,sans-Serif\" baseline-shift=\"sub\" font-size=\"14.00\">0</text>\n</g>\n<!-- 2&#45;&gt;8 -->\n<g id=\"edge8\" class=\"edge\">\n<title>2&#45;&gt;8</title>\n<path fill=\"none\" stroke=\"black\" d=\"M263.07,-441.77C263.92,-431.2 264.85,-419.7 265.71,-408.98\"/>\n<polygon fill=\"black\" stroke=\"black\" points=\"269.2,-409.26 266.51,-399.01 262.22,-408.7 269.2,-409.26\"/>\n</g>\n<!-- 4 -->\n<g id=\"node5\" class=\"node\">\n<title>4</title>\n<path fill=\"#399de5\" stroke=\"black\" d=\"M110,-285C110,-285 12,-285 12,-285 6,-285 0,-279 0,-273 0,-273 0,-233 0,-233 0,-227 6,-221 12,-221 12,-221 110,-221 110,-221 116,-221 122,-227 122,-233 122,-233 122,-273 122,-273 122,-279 116,-285 110,-285\"/>\n<text text-anchor=\"start\" x=\"32\" y=\"-270.8\" font-family=\"Helvetica,sans-Serif\" font-size=\"14.00\">gini = 0.0</text>\n<text text-anchor=\"start\" x=\"9.5\" y=\"-256.8\" font-family=\"Helvetica,sans-Serif\" font-size=\"14.00\">samples = 3291</text>\n<text text-anchor=\"start\" x=\"8\" y=\"-242.8\" font-family=\"Helvetica,sans-Serif\" font-size=\"14.00\">value = [0, 3291]</text>\n<text text-anchor=\"start\" x=\"29.5\" y=\"-228.8\" font-family=\"Helvetica,sans-Serif\" font-size=\"14.00\">class = y</text>\n<text text-anchor=\"start\" x=\"85.5\" y=\"-228.8\" font-family=\"Helvetica,sans-Serif\" baseline-shift=\"sub\" font-size=\"14.00\">1</text>\n</g>\n<!-- 3&#45;&gt;4 -->\n<g id=\"edge4\" class=\"edge\">\n<title>3&#45;&gt;4</title>\n<path fill=\"none\" stroke=\"black\" d=\"M105.79,-327.77C99.11,-316.77 91.81,-304.75 85.08,-293.66\"/>\n<polygon fill=\"black\" stroke=\"black\" points=\"88.01,-291.74 79.83,-285.01 82.03,-295.37 88.01,-291.74\"/>\n</g>\n<!-- 5 -->\n<g id=\"node6\" class=\"node\">\n<title>5</title>\n<path fill=\"#fefbf8\" stroke=\"black\" d=\"M241.5,-292C241.5,-292 152.5,-292 152.5,-292 146.5,-292 140.5,-286 140.5,-280 140.5,-280 140.5,-226 140.5,-226 140.5,-220 146.5,-214 152.5,-214 152.5,-214 241.5,-214 241.5,-214 247.5,-214 253.5,-220 253.5,-226 253.5,-226 253.5,-280 253.5,-280 253.5,-286 247.5,-292 241.5,-292\"/>\n<text text-anchor=\"start\" x=\"156.5\" y=\"-277.8\" font-family=\"Helvetica,sans-Serif\" font-size=\"14.00\">odor_c ≤ 0.5</text>\n<text text-anchor=\"start\" x=\"168\" y=\"-263.8\" font-family=\"Helvetica,sans-Serif\" font-size=\"14.00\">gini = 0.5</text>\n<text text-anchor=\"start\" x=\"149.5\" y=\"-249.8\" font-family=\"Helvetica,sans-Serif\" font-size=\"14.00\">samples = 177</text>\n<text text-anchor=\"start\" x=\"148.5\" y=\"-235.8\" font-family=\"Helvetica,sans-Serif\" font-size=\"14.00\">value = [90, 87]</text>\n<text text-anchor=\"start\" x=\"165.5\" y=\"-221.8\" font-family=\"Helvetica,sans-Serif\" font-size=\"14.00\">class = y</text>\n<text text-anchor=\"start\" x=\"221.5\" y=\"-221.8\" font-family=\"Helvetica,sans-Serif\" baseline-shift=\"sub\" font-size=\"14.00\">0</text>\n</g>\n<!-- 3&#45;&gt;5 -->\n<g id=\"edge5\" class=\"edge\">\n<title>3&#45;&gt;5</title>\n<path fill=\"none\" stroke=\"black\" d=\"M152.21,-327.77C157.46,-319.12 163.1,-309.84 168.54,-300.88\"/>\n<polygon fill=\"black\" stroke=\"black\" points=\"171.69,-302.42 173.89,-292.06 165.71,-298.79 171.69,-302.42\"/>\n</g>\n<!-- 6 -->\n<g id=\"node7\" class=\"node\">\n<title>6</title>\n<path fill=\"#e58139\" stroke=\"black\" d=\"M176.5,-171C176.5,-171 95.5,-171 95.5,-171 89.5,-171 83.5,-165 83.5,-159 83.5,-159 83.5,-119 83.5,-119 83.5,-113 89.5,-107 95.5,-107 95.5,-107 176.5,-107 176.5,-107 182.5,-107 188.5,-113 188.5,-119 188.5,-119 188.5,-159 188.5,-159 188.5,-165 182.5,-171 176.5,-171\"/>\n<text text-anchor=\"start\" x=\"107\" y=\"-156.8\" font-family=\"Helvetica,sans-Serif\" font-size=\"14.00\">gini = 0.0</text>\n<text text-anchor=\"start\" x=\"92.5\" y=\"-142.8\" font-family=\"Helvetica,sans-Serif\" font-size=\"14.00\">samples = 90</text>\n<text text-anchor=\"start\" x=\"91.5\" y=\"-128.8\" font-family=\"Helvetica,sans-Serif\" font-size=\"14.00\">value = [90, 0]</text>\n<text text-anchor=\"start\" x=\"104.5\" y=\"-114.8\" font-family=\"Helvetica,sans-Serif\" font-size=\"14.00\">class = y</text>\n<text text-anchor=\"start\" x=\"160.5\" y=\"-114.8\" font-family=\"Helvetica,sans-Serif\" baseline-shift=\"sub\" font-size=\"14.00\">0</text>\n</g>\n<!-- 5&#45;&gt;6 -->\n<g id=\"edge6\" class=\"edge\">\n<title>5&#45;&gt;6</title>\n<path fill=\"none\" stroke=\"black\" d=\"M176.18,-213.77C170.25,-202.88 163.77,-190.99 157.78,-179.99\"/>\n<polygon fill=\"black\" stroke=\"black\" points=\"160.75,-178.12 152.89,-171.01 154.6,-181.47 160.75,-178.12\"/>\n</g>\n<!-- 7 -->\n<g id=\"node8\" class=\"node\">\n<title>7</title>\n<path fill=\"#399de5\" stroke=\"black\" d=\"M299.5,-171C299.5,-171 218.5,-171 218.5,-171 212.5,-171 206.5,-165 206.5,-159 206.5,-159 206.5,-119 206.5,-119 206.5,-113 212.5,-107 218.5,-107 218.5,-107 299.5,-107 299.5,-107 305.5,-107 311.5,-113 311.5,-119 311.5,-119 311.5,-159 311.5,-159 311.5,-165 305.5,-171 299.5,-171\"/>\n<text text-anchor=\"start\" x=\"230\" y=\"-156.8\" font-family=\"Helvetica,sans-Serif\" font-size=\"14.00\">gini = 0.0</text>\n<text text-anchor=\"start\" x=\"215.5\" y=\"-142.8\" font-family=\"Helvetica,sans-Serif\" font-size=\"14.00\">samples = 87</text>\n<text text-anchor=\"start\" x=\"214.5\" y=\"-128.8\" font-family=\"Helvetica,sans-Serif\" font-size=\"14.00\">value = [0, 87]</text>\n<text text-anchor=\"start\" x=\"227.5\" y=\"-114.8\" font-family=\"Helvetica,sans-Serif\" font-size=\"14.00\">class = y</text>\n<text text-anchor=\"start\" x=\"283.5\" y=\"-114.8\" font-family=\"Helvetica,sans-Serif\" baseline-shift=\"sub\" font-size=\"14.00\">1</text>\n</g>\n<!-- 5&#45;&gt;7 -->\n<g id=\"edge7\" class=\"edge\">\n<title>5&#45;&gt;7</title>\n<path fill=\"none\" stroke=\"black\" d=\"M218.16,-213.77C224.19,-202.88 230.78,-190.99 236.86,-179.99\"/>\n<polygon fill=\"black\" stroke=\"black\" points=\"240.05,-181.45 241.83,-171.01 233.93,-178.06 240.05,-181.45\"/>\n</g>\n<!-- 10 -->\n<g id=\"node11\" class=\"node\">\n<title>10</title>\n<path fill=\"#399de5\" stroke=\"black\" d=\"M472.5,-399C472.5,-399 391.5,-399 391.5,-399 385.5,-399 379.5,-393 379.5,-387 379.5,-387 379.5,-347 379.5,-347 379.5,-341 385.5,-335 391.5,-335 391.5,-335 472.5,-335 472.5,-335 478.5,-335 484.5,-341 484.5,-347 484.5,-347 484.5,-387 484.5,-387 484.5,-393 478.5,-399 472.5,-399\"/>\n<text text-anchor=\"start\" x=\"403\" y=\"-384.8\" font-family=\"Helvetica,sans-Serif\" font-size=\"14.00\">gini = 0.0</text>\n<text text-anchor=\"start\" x=\"388.5\" y=\"-370.8\" font-family=\"Helvetica,sans-Serif\" font-size=\"14.00\">samples = 32</text>\n<text text-anchor=\"start\" x=\"387.5\" y=\"-356.8\" font-family=\"Helvetica,sans-Serif\" font-size=\"14.00\">value = [0, 32]</text>\n<text text-anchor=\"start\" x=\"400.5\" y=\"-342.8\" font-family=\"Helvetica,sans-Serif\" font-size=\"14.00\">class = y</text>\n<text text-anchor=\"start\" x=\"456.5\" y=\"-342.8\" font-family=\"Helvetica,sans-Serif\" baseline-shift=\"sub\" font-size=\"14.00\">1</text>\n</g>\n<!-- 9&#45;&gt;10 -->\n<g id=\"edge10\" class=\"edge\">\n<title>9&#45;&gt;10</title>\n<path fill=\"none\" stroke=\"black\" d=\"M474.15,-441.77C467.93,-430.88 461.13,-418.99 454.85,-407.99\"/>\n<polygon fill=\"black\" stroke=\"black\" points=\"457.72,-405.96 449.72,-399.01 451.64,-409.43 457.72,-405.96\"/>\n</g>\n<!-- 11 -->\n<g id=\"node12\" class=\"node\">\n<title>11</title>\n<path fill=\"#e58139\" stroke=\"black\" d=\"M603.5,-399C603.5,-399 514.5,-399 514.5,-399 508.5,-399 502.5,-393 502.5,-387 502.5,-387 502.5,-347 502.5,-347 502.5,-341 508.5,-335 514.5,-335 514.5,-335 603.5,-335 603.5,-335 609.5,-335 615.5,-341 615.5,-347 615.5,-347 615.5,-387 615.5,-387 615.5,-393 609.5,-399 603.5,-399\"/>\n<text text-anchor=\"start\" x=\"530\" y=\"-384.8\" font-family=\"Helvetica,sans-Serif\" font-size=\"14.00\">gini = 0.0</text>\n<text text-anchor=\"start\" x=\"511.5\" y=\"-370.8\" font-family=\"Helvetica,sans-Serif\" font-size=\"14.00\">samples = 459</text>\n<text text-anchor=\"start\" x=\"510.5\" y=\"-356.8\" font-family=\"Helvetica,sans-Serif\" font-size=\"14.00\">value = [459, 0]</text>\n<text text-anchor=\"start\" x=\"527.5\" y=\"-342.8\" font-family=\"Helvetica,sans-Serif\" font-size=\"14.00\">class = y</text>\n<text text-anchor=\"start\" x=\"583.5\" y=\"-342.8\" font-family=\"Helvetica,sans-Serif\" baseline-shift=\"sub\" font-size=\"14.00\">0</text>\n</g>\n<!-- 9&#45;&gt;11 -->\n<g id=\"edge11\" class=\"edge\">\n<title>9&#45;&gt;11</title>\n<path fill=\"none\" stroke=\"black\" d=\"M517.5,-441.77C523.63,-430.88 530.32,-418.99 536.5,-407.99\"/>\n<polygon fill=\"black\" stroke=\"black\" points=\"539.7,-409.44 541.56,-399.01 533.6,-406.01 539.7,-409.44\"/>\n</g>\n<!-- 13 -->\n<g id=\"node14\" class=\"node\">\n<title>13</title>\n<path fill=\"#e5833c\" stroke=\"black\" d=\"M828.5,-520C828.5,-520 635.5,-520 635.5,-520 629.5,-520 623.5,-514 623.5,-508 623.5,-508 623.5,-454 623.5,-454 623.5,-448 629.5,-442 635.5,-442 635.5,-442 828.5,-442 828.5,-442 834.5,-442 840.5,-448 840.5,-454 840.5,-454 840.5,-508 840.5,-508 840.5,-514 834.5,-520 828.5,-520\"/>\n<text text-anchor=\"start\" x=\"631.5\" y=\"-505.8\" font-family=\"Helvetica,sans-Serif\" font-size=\"14.00\">stalk&#45;surface&#45;below&#45;ring_y ≤ 0.5</text>\n<text text-anchor=\"start\" x=\"694.5\" y=\"-491.8\" font-family=\"Helvetica,sans-Serif\" font-size=\"14.00\">gini = 0.025</text>\n<text text-anchor=\"start\" x=\"680.5\" y=\"-477.8\" font-family=\"Helvetica,sans-Serif\" font-size=\"14.00\">samples = 3116</text>\n<text text-anchor=\"start\" x=\"675\" y=\"-463.8\" font-family=\"Helvetica,sans-Serif\" font-size=\"14.00\">value = [3076, 40]</text>\n<text text-anchor=\"start\" x=\"700.5\" y=\"-449.8\" font-family=\"Helvetica,sans-Serif\" font-size=\"14.00\">class = y</text>\n<text text-anchor=\"start\" x=\"756.5\" y=\"-449.8\" font-family=\"Helvetica,sans-Serif\" baseline-shift=\"sub\" font-size=\"14.00\">0</text>\n</g>\n<!-- 12&#45;&gt;13 -->\n<g id=\"edge13\" class=\"edge\">\n<title>12&#45;&gt;13</title>\n<path fill=\"none\" stroke=\"black\" d=\"M732,-555.77C732,-547.57 732,-538.8 732,-530.28\"/>\n<polygon fill=\"black\" stroke=\"black\" points=\"735.5,-530.06 732,-520.06 728.5,-530.06 735.5,-530.06\"/>\n</g>\n<!-- 24 -->\n<g id=\"node25\" class=\"node\">\n<title>24</title>\n<path fill=\"#399de5\" stroke=\"black\" d=\"M951.5,-513C951.5,-513 870.5,-513 870.5,-513 864.5,-513 858.5,-507 858.5,-501 858.5,-501 858.5,-461 858.5,-461 858.5,-455 864.5,-449 870.5,-449 870.5,-449 951.5,-449 951.5,-449 957.5,-449 963.5,-455 963.5,-461 963.5,-461 963.5,-501 963.5,-501 963.5,-507 957.5,-513 951.5,-513\"/>\n<text text-anchor=\"start\" x=\"882\" y=\"-498.8\" font-family=\"Helvetica,sans-Serif\" font-size=\"14.00\">gini = 0.0</text>\n<text text-anchor=\"start\" x=\"867.5\" y=\"-484.8\" font-family=\"Helvetica,sans-Serif\" font-size=\"14.00\">samples = 65</text>\n<text text-anchor=\"start\" x=\"866.5\" y=\"-470.8\" font-family=\"Helvetica,sans-Serif\" font-size=\"14.00\">value = [0, 65]</text>\n<text text-anchor=\"start\" x=\"879.5\" y=\"-456.8\" font-family=\"Helvetica,sans-Serif\" font-size=\"14.00\">class = y</text>\n<text text-anchor=\"start\" x=\"935.5\" y=\"-456.8\" font-family=\"Helvetica,sans-Serif\" baseline-shift=\"sub\" font-size=\"14.00\">1</text>\n</g>\n<!-- 12&#45;&gt;24 -->\n<g id=\"edge24\" class=\"edge\">\n<title>12&#45;&gt;24</title>\n<path fill=\"none\" stroke=\"black\" d=\"M792.85,-555.93C812.19,-543.83 833.52,-530.48 852.67,-518.5\"/>\n<polygon fill=\"black\" stroke=\"black\" points=\"854.68,-521.37 861.3,-513.09 850.97,-515.43 854.68,-521.37\"/>\n</g>\n<!-- 14 -->\n<g id=\"node15\" class=\"node\">\n<title>14</title>\n<path fill=\"#e58139\" stroke=\"black\" d=\"M782.5,-406C782.5,-406 663.5,-406 663.5,-406 657.5,-406 651.5,-400 651.5,-394 651.5,-394 651.5,-340 651.5,-340 651.5,-334 657.5,-328 663.5,-328 663.5,-328 782.5,-328 782.5,-328 788.5,-328 794.5,-334 794.5,-340 794.5,-340 794.5,-394 794.5,-394 794.5,-400 788.5,-406 782.5,-406\"/>\n<text text-anchor=\"start\" x=\"659.5\" y=\"-391.8\" font-family=\"Helvetica,sans-Serif\" font-size=\"14.00\">cap&#45;surface_g ≤ 0.5</text>\n<text text-anchor=\"start\" x=\"685.5\" y=\"-377.8\" font-family=\"Helvetica,sans-Serif\" font-size=\"14.00\">gini = 0.004</text>\n<text text-anchor=\"start\" x=\"671.5\" y=\"-363.8\" font-family=\"Helvetica,sans-Serif\" font-size=\"14.00\">samples = 3067</text>\n<text text-anchor=\"start\" x=\"670\" y=\"-349.8\" font-family=\"Helvetica,sans-Serif\" font-size=\"14.00\">value = [3061, 6]</text>\n<text text-anchor=\"start\" x=\"691.5\" y=\"-335.8\" font-family=\"Helvetica,sans-Serif\" font-size=\"14.00\">class = y</text>\n<text text-anchor=\"start\" x=\"747.5\" y=\"-335.8\" font-family=\"Helvetica,sans-Serif\" baseline-shift=\"sub\" font-size=\"14.00\">0</text>\n</g>\n<!-- 13&#45;&gt;14 -->\n<g id=\"edge14\" class=\"edge\">\n<title>13&#45;&gt;14</title>\n<path fill=\"none\" stroke=\"black\" d=\"M728.93,-441.77C728.27,-433.57 727.56,-424.8 726.88,-416.28\"/>\n<polygon fill=\"black\" stroke=\"black\" points=\"730.35,-415.75 726.06,-406.06 723.37,-416.31 730.35,-415.75\"/>\n</g>\n<!-- 21 -->\n<g id=\"node22\" class=\"node\">\n<title>21</title>\n<path fill=\"#90c8f0\" stroke=\"black\" d=\"M1003.5,-406C1003.5,-406 824.5,-406 824.5,-406 818.5,-406 812.5,-400 812.5,-394 812.5,-394 812.5,-340 812.5,-340 812.5,-334 818.5,-328 824.5,-328 824.5,-328 1003.5,-328 1003.5,-328 1009.5,-328 1015.5,-334 1015.5,-340 1015.5,-340 1015.5,-394 1015.5,-394 1015.5,-400 1009.5,-406 1003.5,-406\"/>\n<text text-anchor=\"start\" x=\"820.5\" y=\"-391.8\" font-family=\"Helvetica,sans-Serif\" font-size=\"14.00\">stalk&#45;color&#45;above&#45;ring_n ≤ 0.5</text>\n<text text-anchor=\"start\" x=\"876.5\" y=\"-377.8\" font-family=\"Helvetica,sans-Serif\" font-size=\"14.00\">gini = 0.425</text>\n<text text-anchor=\"start\" x=\"870.5\" y=\"-363.8\" font-family=\"Helvetica,sans-Serif\" font-size=\"14.00\">samples = 49</text>\n<text text-anchor=\"start\" x=\"865.5\" y=\"-349.8\" font-family=\"Helvetica,sans-Serif\" font-size=\"14.00\">value = [15, 34]</text>\n<text text-anchor=\"start\" x=\"882.5\" y=\"-335.8\" font-family=\"Helvetica,sans-Serif\" font-size=\"14.00\">class = y</text>\n<text text-anchor=\"start\" x=\"938.5\" y=\"-335.8\" font-family=\"Helvetica,sans-Serif\" baseline-shift=\"sub\" font-size=\"14.00\">1</text>\n</g>\n<!-- 13&#45;&gt;21 -->\n<g id=\"edge21\" class=\"edge\">\n<title>13&#45;&gt;21</title>\n<path fill=\"none\" stroke=\"black\" d=\"M793.87,-441.93C809.7,-432.19 826.83,-421.64 843.07,-411.65\"/>\n<polygon fill=\"black\" stroke=\"black\" points=\"845.31,-414.38 851.99,-406.16 841.64,-408.42 845.31,-414.38\"/>\n</g>\n<!-- 15 -->\n<g id=\"node16\" class=\"node\">\n<title>15</title>\n<path fill=\"#e58139\" stroke=\"black\" d=\"M662,-292C662,-292 564,-292 564,-292 558,-292 552,-286 552,-280 552,-280 552,-226 552,-226 552,-220 558,-214 564,-214 564,-214 662,-214 662,-214 668,-214 674,-220 674,-226 674,-226 674,-280 674,-280 674,-286 668,-292 662,-292\"/>\n<text text-anchor=\"start\" x=\"571.5\" y=\"-277.8\" font-family=\"Helvetica,sans-Serif\" font-size=\"14.00\">gill&#45;size ≤ 0.5</text>\n<text text-anchor=\"start\" x=\"575.5\" y=\"-263.8\" font-family=\"Helvetica,sans-Serif\" font-size=\"14.00\">gini = 0.002</text>\n<text text-anchor=\"start\" x=\"561.5\" y=\"-249.8\" font-family=\"Helvetica,sans-Serif\" font-size=\"14.00\">samples = 3064</text>\n<text text-anchor=\"start\" x=\"560\" y=\"-235.8\" font-family=\"Helvetica,sans-Serif\" font-size=\"14.00\">value = [3061, 3]</text>\n<text text-anchor=\"start\" x=\"581.5\" y=\"-221.8\" font-family=\"Helvetica,sans-Serif\" font-size=\"14.00\">class = y</text>\n<text text-anchor=\"start\" x=\"637.5\" y=\"-221.8\" font-family=\"Helvetica,sans-Serif\" baseline-shift=\"sub\" font-size=\"14.00\">0</text>\n</g>\n<!-- 14&#45;&gt;15 -->\n<g id=\"edge15\" class=\"edge\">\n<title>14&#45;&gt;15</title>\n<path fill=\"none\" stroke=\"black\" d=\"M685.45,-327.77C676.43,-318.58 666.7,-308.68 657.39,-299.2\"/>\n<polygon fill=\"black\" stroke=\"black\" points=\"659.88,-296.74 650.38,-292.06 654.89,-301.65 659.88,-296.74\"/>\n</g>\n<!-- 20 -->\n<g id=\"node21\" class=\"node\">\n<title>20</title>\n<path fill=\"#399de5\" stroke=\"black\" d=\"M777.5,-285C777.5,-285 704.5,-285 704.5,-285 698.5,-285 692.5,-279 692.5,-273 692.5,-273 692.5,-233 692.5,-233 692.5,-227 698.5,-221 704.5,-221 704.5,-221 777.5,-221 777.5,-221 783.5,-221 789.5,-227 789.5,-233 789.5,-233 789.5,-273 789.5,-273 789.5,-279 783.5,-285 777.5,-285\"/>\n<text text-anchor=\"start\" x=\"712\" y=\"-270.8\" font-family=\"Helvetica,sans-Serif\" font-size=\"14.00\">gini = 0.0</text>\n<text text-anchor=\"start\" x=\"701.5\" y=\"-256.8\" font-family=\"Helvetica,sans-Serif\" font-size=\"14.00\">samples = 3</text>\n<text text-anchor=\"start\" x=\"700.5\" y=\"-242.8\" font-family=\"Helvetica,sans-Serif\" font-size=\"14.00\">value = [0, 3]</text>\n<text text-anchor=\"start\" x=\"709.5\" y=\"-228.8\" font-family=\"Helvetica,sans-Serif\" font-size=\"14.00\">class = y</text>\n<text text-anchor=\"start\" x=\"765.5\" y=\"-228.8\" font-family=\"Helvetica,sans-Serif\" baseline-shift=\"sub\" font-size=\"14.00\">1</text>\n</g>\n<!-- 14&#45;&gt;20 -->\n<g id=\"edge20\" class=\"edge\">\n<title>14&#45;&gt;20</title>\n<path fill=\"none\" stroke=\"black\" d=\"M729.14,-327.77C730.84,-317.2 732.69,-305.7 734.41,-294.98\"/>\n<polygon fill=\"black\" stroke=\"black\" points=\"737.89,-295.44 736.02,-285.01 730.97,-294.33 737.89,-295.44\"/>\n</g>\n<!-- 16 -->\n<g id=\"node17\" class=\"node\">\n<title>16</title>\n<path fill=\"#e58139\" stroke=\"black\" d=\"M594,-171C594,-171 496,-171 496,-171 490,-171 484,-165 484,-159 484,-159 484,-119 484,-119 484,-113 490,-107 496,-107 496,-107 594,-107 594,-107 600,-107 606,-113 606,-119 606,-119 606,-159 606,-159 606,-165 600,-171 594,-171\"/>\n<text text-anchor=\"start\" x=\"516\" y=\"-156.8\" font-family=\"Helvetica,sans-Serif\" font-size=\"14.00\">gini = 0.0</text>\n<text text-anchor=\"start\" x=\"493.5\" y=\"-142.8\" font-family=\"Helvetica,sans-Serif\" font-size=\"14.00\">samples = 2889</text>\n<text text-anchor=\"start\" x=\"492\" y=\"-128.8\" font-family=\"Helvetica,sans-Serif\" font-size=\"14.00\">value = [2889, 0]</text>\n<text text-anchor=\"start\" x=\"513.5\" y=\"-114.8\" font-family=\"Helvetica,sans-Serif\" font-size=\"14.00\">class = y</text>\n<text text-anchor=\"start\" x=\"569.5\" y=\"-114.8\" font-family=\"Helvetica,sans-Serif\" baseline-shift=\"sub\" font-size=\"14.00\">0</text>\n</g>\n<!-- 15&#45;&gt;16 -->\n<g id=\"edge16\" class=\"edge\">\n<title>15&#45;&gt;16</title>\n<path fill=\"none\" stroke=\"black\" d=\"M589.79,-213.77C583.11,-202.77 575.81,-190.75 569.08,-179.66\"/>\n<polygon fill=\"black\" stroke=\"black\" points=\"572.01,-177.74 563.83,-171.01 566.03,-181.37 572.01,-177.74\"/>\n</g>\n<!-- 17 -->\n<g id=\"node18\" class=\"node\">\n<title>17</title>\n<path fill=\"#e5833c\" stroke=\"black\" d=\"M725.5,-178C725.5,-178 636.5,-178 636.5,-178 630.5,-178 624.5,-172 624.5,-166 624.5,-166 624.5,-112 624.5,-112 624.5,-106 630.5,-100 636.5,-100 636.5,-100 725.5,-100 725.5,-100 731.5,-100 737.5,-106 737.5,-112 737.5,-112 737.5,-166 737.5,-166 737.5,-172 731.5,-178 725.5,-178\"/>\n<text text-anchor=\"start\" x=\"640\" y=\"-163.8\" font-family=\"Helvetica,sans-Serif\" font-size=\"14.00\">bruises ≤ 0.5</text>\n<text text-anchor=\"start\" x=\"643.5\" y=\"-149.8\" font-family=\"Helvetica,sans-Serif\" font-size=\"14.00\">gini = 0.034</text>\n<text text-anchor=\"start\" x=\"633.5\" y=\"-135.8\" font-family=\"Helvetica,sans-Serif\" font-size=\"14.00\">samples = 175</text>\n<text text-anchor=\"start\" x=\"632.5\" y=\"-121.8\" font-family=\"Helvetica,sans-Serif\" font-size=\"14.00\">value = [172, 3]</text>\n<text text-anchor=\"start\" x=\"649.5\" y=\"-107.8\" font-family=\"Helvetica,sans-Serif\" font-size=\"14.00\">class = y</text>\n<text text-anchor=\"start\" x=\"705.5\" y=\"-107.8\" font-family=\"Helvetica,sans-Serif\" baseline-shift=\"sub\" font-size=\"14.00\">0</text>\n</g>\n<!-- 15&#45;&gt;17 -->\n<g id=\"edge17\" class=\"edge\">\n<title>15&#45;&gt;17</title>\n<path fill=\"none\" stroke=\"black\" d=\"M636.21,-213.77C641.46,-205.12 647.1,-195.84 652.54,-186.88\"/>\n<polygon fill=\"black\" stroke=\"black\" points=\"655.69,-188.42 657.89,-178.06 649.71,-184.79 655.69,-188.42\"/>\n</g>\n<!-- 18 -->\n<g id=\"node19\" class=\"node\">\n<title>18</title>\n<path fill=\"#e58139\" stroke=\"black\" d=\"M664.5,-64C664.5,-64 575.5,-64 575.5,-64 569.5,-64 563.5,-58 563.5,-52 563.5,-52 563.5,-12 563.5,-12 563.5,-6 569.5,0 575.5,0 575.5,0 664.5,0 664.5,0 670.5,0 676.5,-6 676.5,-12 676.5,-12 676.5,-52 676.5,-52 676.5,-58 670.5,-64 664.5,-64\"/>\n<text text-anchor=\"start\" x=\"591\" y=\"-49.8\" font-family=\"Helvetica,sans-Serif\" font-size=\"14.00\">gini = 0.0</text>\n<text text-anchor=\"start\" x=\"572.5\" y=\"-35.8\" font-family=\"Helvetica,sans-Serif\" font-size=\"14.00\">samples = 172</text>\n<text text-anchor=\"start\" x=\"571.5\" y=\"-21.8\" font-family=\"Helvetica,sans-Serif\" font-size=\"14.00\">value = [172, 0]</text>\n<text text-anchor=\"start\" x=\"588.5\" y=\"-7.8\" font-family=\"Helvetica,sans-Serif\" font-size=\"14.00\">class = y</text>\n<text text-anchor=\"start\" x=\"644.5\" y=\"-7.8\" font-family=\"Helvetica,sans-Serif\" baseline-shift=\"sub\" font-size=\"14.00\">0</text>\n</g>\n<!-- 17&#45;&gt;18 -->\n<g id=\"edge18\" class=\"edge\">\n<title>17&#45;&gt;18</title>\n<path fill=\"none\" stroke=\"black\" d=\"M658.81,-99.8C653.7,-91 648.25,-81.63 643.1,-72.76\"/>\n<polygon fill=\"black\" stroke=\"black\" points=\"646.13,-71.01 638.08,-64.12 640.07,-74.52 646.13,-71.01\"/>\n</g>\n<!-- 19 -->\n<g id=\"node20\" class=\"node\">\n<title>19</title>\n<path fill=\"#399de5\" stroke=\"black\" d=\"M779.5,-64C779.5,-64 706.5,-64 706.5,-64 700.5,-64 694.5,-58 694.5,-52 694.5,-52 694.5,-12 694.5,-12 694.5,-6 700.5,0 706.5,0 706.5,0 779.5,0 779.5,0 785.5,0 791.5,-6 791.5,-12 791.5,-12 791.5,-52 791.5,-52 791.5,-58 785.5,-64 779.5,-64\"/>\n<text text-anchor=\"start\" x=\"714\" y=\"-49.8\" font-family=\"Helvetica,sans-Serif\" font-size=\"14.00\">gini = 0.0</text>\n<text text-anchor=\"start\" x=\"703.5\" y=\"-35.8\" font-family=\"Helvetica,sans-Serif\" font-size=\"14.00\">samples = 3</text>\n<text text-anchor=\"start\" x=\"702.5\" y=\"-21.8\" font-family=\"Helvetica,sans-Serif\" font-size=\"14.00\">value = [0, 3]</text>\n<text text-anchor=\"start\" x=\"711.5\" y=\"-7.8\" font-family=\"Helvetica,sans-Serif\" font-size=\"14.00\">class = y</text>\n<text text-anchor=\"start\" x=\"767.5\" y=\"-7.8\" font-family=\"Helvetica,sans-Serif\" baseline-shift=\"sub\" font-size=\"14.00\">1</text>\n</g>\n<!-- 17&#45;&gt;19 -->\n<g id=\"edge19\" class=\"edge\">\n<title>17&#45;&gt;19</title>\n<path fill=\"none\" stroke=\"black\" d=\"M703.56,-99.8C708.75,-91 714.29,-81.63 719.52,-72.76\"/>\n<polygon fill=\"black\" stroke=\"black\" points=\"722.56,-74.51 724.63,-64.12 716.53,-70.95 722.56,-74.51\"/>\n</g>\n<!-- 22 -->\n<g id=\"node23\" class=\"node\">\n<title>22</title>\n<path fill=\"#399de5\" stroke=\"black\" d=\"M936.5,-285C936.5,-285 855.5,-285 855.5,-285 849.5,-285 843.5,-279 843.5,-273 843.5,-273 843.5,-233 843.5,-233 843.5,-227 849.5,-221 855.5,-221 855.5,-221 936.5,-221 936.5,-221 942.5,-221 948.5,-227 948.5,-233 948.5,-233 948.5,-273 948.5,-273 948.5,-279 942.5,-285 936.5,-285\"/>\n<text text-anchor=\"start\" x=\"867\" y=\"-270.8\" font-family=\"Helvetica,sans-Serif\" font-size=\"14.00\">gini = 0.0</text>\n<text text-anchor=\"start\" x=\"852.5\" y=\"-256.8\" font-family=\"Helvetica,sans-Serif\" font-size=\"14.00\">samples = 34</text>\n<text text-anchor=\"start\" x=\"851.5\" y=\"-242.8\" font-family=\"Helvetica,sans-Serif\" font-size=\"14.00\">value = [0, 34]</text>\n<text text-anchor=\"start\" x=\"864.5\" y=\"-228.8\" font-family=\"Helvetica,sans-Serif\" font-size=\"14.00\">class = y</text>\n<text text-anchor=\"start\" x=\"920.5\" y=\"-228.8\" font-family=\"Helvetica,sans-Serif\" baseline-shift=\"sub\" font-size=\"14.00\">1</text>\n</g>\n<!-- 21&#45;&gt;22 -->\n<g id=\"edge22\" class=\"edge\">\n<title>21&#45;&gt;22</title>\n<path fill=\"none\" stroke=\"black\" d=\"M907.86,-327.77C906.16,-317.2 904.31,-305.7 902.59,-294.98\"/>\n<polygon fill=\"black\" stroke=\"black\" points=\"906.03,-294.33 900.98,-285.01 899.11,-295.44 906.03,-294.33\"/>\n</g>\n<!-- 23 -->\n<g id=\"node24\" class=\"node\">\n<title>23</title>\n<path fill=\"#e58139\" stroke=\"black\" d=\"M1059.5,-285C1059.5,-285 978.5,-285 978.5,-285 972.5,-285 966.5,-279 966.5,-273 966.5,-273 966.5,-233 966.5,-233 966.5,-227 972.5,-221 978.5,-221 978.5,-221 1059.5,-221 1059.5,-221 1065.5,-221 1071.5,-227 1071.5,-233 1071.5,-233 1071.5,-273 1071.5,-273 1071.5,-279 1065.5,-285 1059.5,-285\"/>\n<text text-anchor=\"start\" x=\"990\" y=\"-270.8\" font-family=\"Helvetica,sans-Serif\" font-size=\"14.00\">gini = 0.0</text>\n<text text-anchor=\"start\" x=\"975.5\" y=\"-256.8\" font-family=\"Helvetica,sans-Serif\" font-size=\"14.00\">samples = 15</text>\n<text text-anchor=\"start\" x=\"974.5\" y=\"-242.8\" font-family=\"Helvetica,sans-Serif\" font-size=\"14.00\">value = [15, 0]</text>\n<text text-anchor=\"start\" x=\"987.5\" y=\"-228.8\" font-family=\"Helvetica,sans-Serif\" font-size=\"14.00\">class = y</text>\n<text text-anchor=\"start\" x=\"1043.5\" y=\"-228.8\" font-family=\"Helvetica,sans-Serif\" baseline-shift=\"sub\" font-size=\"14.00\">0</text>\n</g>\n<!-- 21&#45;&gt;23 -->\n<g id=\"edge23\" class=\"edge\">\n<title>21&#45;&gt;23</title>\n<path fill=\"none\" stroke=\"black\" d=\"M949.84,-327.77C960.56,-316.33 972.32,-303.79 983.05,-292.35\"/>\n<polygon fill=\"black\" stroke=\"black\" points=\"985.64,-294.7 989.93,-285.01 980.54,-289.91 985.64,-294.7\"/>\n</g>\n</g>\n</svg>\n",
      "text/plain": [
       "<graphviz.sources.Source at 0x16768b5e040>"
      ]
     },
     "execution_count": 25,
     "metadata": {},
     "output_type": "execute_result"
    }
   ],
   "source": [
    "#graphviz visualization of decision tree best estimator\n",
    "import graphviz \n",
    "import sklearn.tree\n",
    "dot_data=sklearn.tree.export_graphviz(dtc_grid.best_estimator_,out_file=None,feature_names = list(X.columns),class_names=True, filled=True,rounded=True,special_characters=True)\n",
    "graph=graphviz.Source(dot_data)\n",
    "graph"
   ]
  },
  {
   "cell_type": "code",
   "execution_count": 35,
   "metadata": {},
   "outputs": [
    {
     "data": {
      "text/html": [
       "<div>\n",
       "<style scoped>\n",
       "    .dataframe tbody tr th:only-of-type {\n",
       "        vertical-align: middle;\n",
       "    }\n",
       "\n",
       "    .dataframe tbody tr th {\n",
       "        vertical-align: top;\n",
       "    }\n",
       "\n",
       "    .dataframe thead th {\n",
       "        text-align: right;\n",
       "    }\n",
       "</style>\n",
       "<table border=\"1\" class=\"dataframe\">\n",
       "  <thead>\n",
       "    <tr style=\"text-align: right;\">\n",
       "      <th></th>\n",
       "      <th>0</th>\n",
       "    </tr>\n",
       "  </thead>\n",
       "  <tbody>\n",
       "    <tr>\n",
       "      <th>odor_n</th>\n",
       "      <td>0.618633</td>\n",
       "    </tr>\n",
       "    <tr>\n",
       "      <th>stalk-root_c</th>\n",
       "      <td>0.176590</td>\n",
       "    </tr>\n",
       "    <tr>\n",
       "      <th>stalk-surface-below-ring_y</th>\n",
       "      <td>0.097371</td>\n",
       "    </tr>\n",
       "    <tr>\n",
       "      <th>spore-print-color_r</th>\n",
       "      <td>0.033998</td>\n",
       "    </tr>\n",
       "    <tr>\n",
       "      <th>odor_c</th>\n",
       "      <td>0.024239</td>\n",
       "    </tr>\n",
       "    <tr>\n",
       "      <th>gill-spacing</th>\n",
       "      <td>0.023795</td>\n",
       "    </tr>\n",
       "    <tr>\n",
       "      <th>stalk-surface-below-ring_s</th>\n",
       "      <td>0.016391</td>\n",
       "    </tr>\n",
       "    <tr>\n",
       "      <th>stalk-color-above-ring_n</th>\n",
       "      <td>0.005703</td>\n",
       "    </tr>\n",
       "    <tr>\n",
       "      <th>cap-surface_g</th>\n",
       "      <td>0.001639</td>\n",
       "    </tr>\n",
       "    <tr>\n",
       "      <th>bruises</th>\n",
       "      <td>0.001616</td>\n",
       "    </tr>\n",
       "  </tbody>\n",
       "</table>\n",
       "</div>"
      ],
      "text/plain": [
       "                                   0\n",
       "odor_n                      0.618633\n",
       "stalk-root_c                0.176590\n",
       "stalk-surface-below-ring_y  0.097371\n",
       "spore-print-color_r         0.033998\n",
       "odor_c                      0.024239\n",
       "gill-spacing                0.023795\n",
       "stalk-surface-below-ring_s  0.016391\n",
       "stalk-color-above-ring_n    0.005703\n",
       "cap-surface_g               0.001639\n",
       "bruises                     0.001616"
      ]
     },
     "execution_count": 35,
     "metadata": {},
     "output_type": "execute_result"
    }
   ],
   "source": [
    "#feature importance scores\n",
    "feat_importanceDF = pd.DataFrame(dtc_grid.best_estimator_.feature_importances_,index=X.columns)\n",
    "feat_importanceDF.sort_values(by=0,ascending=False).head(10)"
   ]
  },
  {
   "cell_type": "code",
   "execution_count": 45,
   "metadata": {},
   "outputs": [
    {
     "data": {
      "image/png": "[encoded data removed]",
      "text/plain": [
       "<Figure size 432x288 with 1 Axes>"
      ]
     },
     "metadata": {},
     "output_type": "display_data"
    }
   ],
   "source": [
    "#plotting top 10 features\n",
    "feat_importances = pd.Series(dtc_grid.best_estimator_.feature_importances_,index=X.columns)\n",
    "feat_importances.nlargest(10).plot(kind='barh', color='violet', alpha=0.5)\n",
    "plt.title(\"Top 10 Feature Importance - DTC\")\n",
    "plt.xlabel('Relative Importance')\n",
    "plt.show()"
   ]
  }
 ],
 "metadata": {
  "kernelspec": {
   "display_name": "Python 3",
   "language": "python",
   "name": "python3"
  },
  "language_info": {
   "codemirror_mode": {
    "name": "ipython",
    "version": 3
   },
   "file_extension": ".py",
   "mimetype": "text/x-python",
   "name": "python",
   "nbconvert_exporter": "python",
   "pygments_lexer": "ipython3",
   "version": "3.8.8"
  }
 },
 "nbformat": 4,
 "nbformat_minor": 2
}
